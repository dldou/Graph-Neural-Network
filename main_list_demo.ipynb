{
 "cells": [
  {
   "cell_type": "code",
   "execution_count": 1,
   "metadata": {},
   "outputs": [],
   "source": [
    "# Implementing same but with list"
   ]
  },
  {
   "cell_type": "code",
   "execution_count": 43,
   "metadata": {},
   "outputs": [],
   "source": [
    "import torch\n",
    "import torch.nn as nn\n",
    "from torchinfo import summary\n",
    "\n",
    "import torch_geometric\n",
    "from torch_geometric.data import Data, Dataset, DataLoader\n",
    "\n",
    "from scipy.spatial.distance import cdist\n",
    "import networkx as nx\n",
    "\n",
    "import numpy as np\n",
    "import matplotlib.pyplot as plt\n",
    "import pickle as pkl\n",
    "\n",
    "from dataset_list import *\n",
    "from dataset import *\n",
    "from model_list import *"
   ]
  },
  {
   "cell_type": "code",
   "execution_count": 44,
   "metadata": {},
   "outputs": [
    {
     "name": "stdout",
     "output_type": "stream",
     "text": [
      "Initializing CustomizableMNIST...\n",
      "Training set\n",
      "Init done.\n",
      "\n"
     ]
    }
   ],
   "source": [
    "# Dataset\n",
    "train_set = CustomizableMNIST(root='./data', train=True, download=True)\n",
    "\n",
    "val_set_ratio = 0.2\n",
    "shuffle = True\n",
    "batch_size = 32\n",
    "\n",
    "train_loader, valid_loader = split_and_shuffle_data(train_set, val_set_ratio, batch_size)"
   ]
  },
  {
   "cell_type": "code",
   "execution_count": 45,
   "metadata": {},
   "outputs": [
    {
     "name": "stderr",
     "output_type": "stream",
     "text": [
      "/home/dldou/anaconda3/lib/python3.9/site-packages/torch_geometric/deprecation.py:22: UserWarning: 'data.DataLoader' is deprecated, use 'loader.DataLoader' instead\n",
      "  warnings.warn(out)\n"
     ]
    }
   ],
   "source": [
    "filename = 'graph_collection_dataset.pkl'\n",
    "#graph_collection = compute_graph_collection_and_save_pickle_file(train_set, filename, ratio=0.01)\n",
    "graph_collection_dataset = load_graph_collection_from_pickle_file(filename) \n",
    "graph_train_dataset = GraphDataset(graph_collection_dataset)\n",
    "dataloader = GraphDataLoader(graph_collection_dataset, batch_size=32)"
   ]
  },
  {
   "cell_type": "code",
   "execution_count": 46,
   "metadata": {},
   "outputs": [],
   "source": [
    "model = GCN_model(1, 1, 1)"
   ]
  },
  {
   "cell_type": "code",
   "execution_count": 47,
   "metadata": {},
   "outputs": [],
   "source": [
    "graph_batch = next(iter(dataloader))\n",
    "output = model(graph_batch)"
   ]
  },
  {
   "cell_type": "code",
   "execution_count": null,
   "metadata": {},
   "outputs": [],
   "source": []
  }
 ],
 "metadata": {
  "kernelspec": {
   "display_name": "base",
   "language": "python",
   "name": "python3"
  },
  "language_info": {
   "codemirror_mode": {
    "name": "ipython",
    "version": 3
   },
   "file_extension": ".py",
   "mimetype": "text/x-python",
   "name": "python",
   "nbconvert_exporter": "python",
   "pygments_lexer": "ipython3",
   "version": "3.9.13"
  },
  "orig_nbformat": 4
 },
 "nbformat": 4,
 "nbformat_minor": 2
}
