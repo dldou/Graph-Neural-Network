{
 "cells": [
  {
   "cell_type": "code",
   "execution_count": 1,
   "metadata": {},
   "outputs": [],
   "source": [
    "# Implementing same but with list"
   ]
  },
  {
   "cell_type": "code",
   "execution_count": 2,
   "metadata": {},
   "outputs": [],
   "source": [
    "import torch\n",
    "import torch.nn as nn\n",
    "from torchinfo import summary\n",
    "\n",
    "import torch_geometric\n",
    "from torch_geometric.data import Data, Dataset, DataLoader\n",
    "\n",
    "from scipy.spatial.distance import cdist\n",
    "import networkx as nx\n",
    "\n",
    "import numpy as np\n",
    "import matplotlib.pyplot as plt\n",
    "import pickle as pkl\n",
    "\n",
    "from dataset_list import *\n",
    "from dataset import *\n",
    "from model_list import *\n",
    "from trainer_list import *"
   ]
  },
  {
   "cell_type": "code",
   "execution_count": 3,
   "metadata": {},
   "outputs": [
    {
     "name": "stdout",
     "output_type": "stream",
     "text": [
      "Initializing CustomizableMNIST...\n",
      "Training set\n",
      "Init done.\n",
      "\n"
     ]
    }
   ],
   "source": [
    "# Dataset\n",
    "train_set = CustomizableMNIST(root='./data', train=True, download=True)\n",
    "\n",
    "val_set_ratio = 0.2\n",
    "shuffle = True\n",
    "batch_size = 32\n",
    "\n",
    "train_loader, valid_loader = split_and_shuffle_data(train_set, val_set_ratio, batch_size)"
   ]
  },
  {
   "cell_type": "code",
   "execution_count": 4,
   "metadata": {},
   "outputs": [
    {
     "name": "stdout",
     "output_type": "stream",
     "text": [
      "600\n"
     ]
    },
    {
     "name": "stderr",
     "output_type": "stream",
     "text": [
      "/home/dldou/anaconda3/lib/python3.9/site-packages/torch_geometric/deprecation.py:22: UserWarning: 'data.DataLoader' is deprecated, use 'loader.DataLoader' instead\n",
      "  warnings.warn(out)\n"
     ]
    }
   ],
   "source": [
    "filename = 'graph_collection_dataset.pkl'\n",
    "#graph_collection = compute_graph_collection_and_save_pickle_file(train_set, filename, ratio=0.01)\n",
    "graph_collection_dataset = load_graph_collection_from_pickle_file(filename) \n",
    "print(len(graph_collection_dataset))\n",
    "#graph_train_dataset = GraphDataset(graph_collection_dataset)\n",
    "dataloader = GraphDataLoader(graph_collection_dataset, batch_size=32)"
   ]
  },
  {
   "cell_type": "code",
   "execution_count": 5,
   "metadata": {},
   "outputs": [],
   "source": [
    "model = GCN_model(1, 784, 10)"
   ]
  },
  {
   "cell_type": "code",
   "execution_count": 8,
   "metadata": {},
   "outputs": [
    {
     "name": "stdout",
     "output_type": "stream",
     "text": [
      "Starting trainer init...\n",
      "Trainer init done.\n",
      "\n",
      "Starting training...\n",
      "\n",
      "The model will be running on cuda:0 device.\n",
      "\n",
      "Epoch: 1/15, Cross Entropy Loss: 2.2996, Cross Entropy Loss: 2.2950, Accuracy: 9.67%\n",
      "Epoch: 2/15, Cross Entropy Loss: 2.2930, Cross Entropy Loss: 2.2899, Accuracy: 10.00%\n",
      "Epoch: 3/15, Cross Entropy Loss: 2.2882, Cross Entropy Loss: 2.2855, Accuracy: 10.50%\n",
      "Epoch: 4/15, Cross Entropy Loss: 2.2841, Cross Entropy Loss: 2.2816, Accuracy: 11.00%\n",
      "Epoch: 5/15, Cross Entropy Loss: 2.2804, Cross Entropy Loss: 2.2781, Accuracy: 11.17%\n",
      "Epoch: 6/15, Cross Entropy Loss: 2.2770, Cross Entropy Loss: 2.2749, Accuracy: 11.67%\n",
      "Epoch: 7/15, Cross Entropy Loss: 2.2740, Cross Entropy Loss: 2.2720, Accuracy: 15.17%\n",
      "Epoch: 8/15, Cross Entropy Loss: 2.2711, Cross Entropy Loss: 2.2693, Accuracy: 15.33%\n",
      "Epoch: 9/15, Cross Entropy Loss: 2.2685, Cross Entropy Loss: 2.2668, Accuracy: 15.33%\n",
      "Epoch: 10/15, Cross Entropy Loss: 2.2661, Cross Entropy Loss: 2.2644, Accuracy: 15.33%\n",
      "Epoch: 11/15, Cross Entropy Loss: 2.2638, Cross Entropy Loss: 2.2623, Accuracy: 15.50%\n",
      "Epoch: 12/15, Cross Entropy Loss: 2.2617, Cross Entropy Loss: 2.2602, Accuracy: 15.50%\n",
      "Epoch: 13/15, Cross Entropy Loss: 2.2598, Cross Entropy Loss: 2.2584, Accuracy: 15.50%\n",
      "Epoch: 14/15, Cross Entropy Loss: 2.2579, Cross Entropy Loss: 2.2566, Accuracy: 15.50%\n",
      "Epoch: 15/15, Cross Entropy Loss: 2.2562, Cross Entropy Loss: 2.2550, Accuracy: 15.67%\n",
      "Training finish.\n",
      "\n"
     ]
    }
   ],
   "source": [
    "# Model\n",
    "n_classes = 10\n",
    "# print(summary(GNN_test))\n",
    "\n",
    "# Training\n",
    "trainer = Trainer(\"cuda:0\")\n",
    "\n",
    "n_epochs = 15\n",
    "lr = 1e-4\n",
    "optimizer = torch.optim.Adam(model.parameters(), lr)\n",
    "criterion = torch.nn.CrossEntropyLoss()\n",
    "\n",
    "file_path_save_trained_model = \"./savings/models/simpliest_GNN_test\"\n",
    "file_path_save_best_acc_model = \"./savings/models/simpliest_GNN_test_accuracy.pt\"\n",
    "results_file_path = \"./savings/results/results_simpliest_GNN_test.pkl\"\n",
    "train_loss_name = \"Cross Entropy Loss\"\n",
    "valid_loss_name = \"Cross Entropy Loss\"\n",
    "accuracy_name = \"Accuracy\"\n",
    "\n",
    "model, optimizer = trainer.train(n_epochs,\n",
    "                                 model, optimizer, criterion,\n",
    "                                 dataloader, dataloader,\n",
    "                                 file_path_save_trained_model, file_path_save_best_acc_model, results_file_path,\n",
    "                                 train_loss_name, valid_loss_name, accuracy_name,\n",
    "                                 best_accuracy_is_max=True)\n"
   ]
  }
 ],
 "metadata": {
  "kernelspec": {
   "display_name": "base",
   "language": "python",
   "name": "python3"
  },
  "language_info": {
   "codemirror_mode": {
    "name": "ipython",
    "version": 3
   },
   "file_extension": ".py",
   "mimetype": "text/x-python",
   "name": "python",
   "nbconvert_exporter": "python",
   "pygments_lexer": "ipython3",
   "version": "3.9.13"
  },
  "orig_nbformat": 4
 },
 "nbformat": 4,
 "nbformat_minor": 2
}
