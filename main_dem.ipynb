{
 "cells": [
  {
   "cell_type": "code",
   "execution_count": 1,
   "metadata": {},
   "outputs": [],
   "source": [
    "import torch\n",
    "import torch.nn as nn\n",
    "from torchinfo import summary\n",
    "#import torch_geometric\n",
    "\n",
    "from scipy.spatial.distance import cdist\n",
    "import networkx as nx\n",
    "\n",
    "import numpy as np\n",
    "import matplotlib.pyplot as plt\n",
    "import pickle as pkl\n",
    "\n",
    "from model import *\n",
    "from model_utils import *\n",
    "from dataset import *\n",
    "from trainer import *"
   ]
  },
  {
   "cell_type": "code",
   "execution_count": 2,
   "metadata": {},
   "outputs": [
    {
     "name": "stdout",
     "output_type": "stream",
     "text": [
      "Initializing CustomizableMNIST...\n",
      "Training set\n",
      "Init done.\n",
      "\n"
     ]
    }
   ],
   "source": [
    "# Dataset\n",
    "train_set = CustomizableMNIST(root='./data', train=True, download=True)\n",
    "\n",
    "val_set_ratio = 0.2\n",
    "shuffle = True\n",
    "batch_size = 32\n",
    "\n",
    "train_loader, valid_loader = split_and_shuffle_data(train_set, val_set_ratio, batch_size)\n"
   ]
  },
  {
   "cell_type": "code",
   "execution_count": 3,
   "metadata": {},
   "outputs": [],
   "source": [
    "nb_nodes = 784\n",
    "nb_features = 1\n",
    "out_features = 1\n",
    "\n",
    "GNN_test = simpliest_GNN(nb_nodes, nb_features, 10)\n",
    "GNN_test = GNN_test.to(\"cuda:0\")"
   ]
  },
  {
   "cell_type": "code",
   "execution_count": 4,
   "metadata": {},
   "outputs": [],
   "source": [
    "im_test, label = train_set[0]\n",
    "\n",
    "# adjacency matrix (1 for all is fine for now)\n",
    "im_test_np = train_set.get_item_numpy(0)\n",
    "adj_mat = compute_adj_mat(im_test_np)\n",
    "norm_adj_mat = norm_adjacency(adj_mat)"
   ]
  },
  {
   "cell_type": "code",
   "execution_count": 5,
   "metadata": {},
   "outputs": [
    {
     "name": "stdout",
     "output_type": "stream",
     "text": [
      "Starting trainer init...\n",
      "Trainer init done.\n",
      "\n",
      "Starting training...\n",
      "\n",
      "The model will be running on cuda:0 device.\n",
      "\n",
      "Epoch: 1/15, Cross Entropy Loss: 2.0328, Cross Entropy Loss: 1.8498, Accuracy: 74.61%\n",
      "Epoch: 2/15, Cross Entropy Loss: 1.7725, Cross Entropy Loss: 1.7226, Accuracy: 84.62%\n",
      "Epoch: 3/15, Cross Entropy Loss: 1.6950, Cross Entropy Loss: 1.6752, Accuracy: 86.74%\n",
      "Epoch: 4/15, Cross Entropy Loss: 1.6607, Cross Entropy Loss: 1.6511, Accuracy: 87.70%\n",
      "Epoch: 5/15, Cross Entropy Loss: 1.6404, Cross Entropy Loss: 1.6355, Accuracy: 88.18%\n",
      "Epoch: 6/15, Cross Entropy Loss: 1.6267, Cross Entropy Loss: 1.6238, Accuracy: 88.73%\n",
      "Epoch: 7/15, Cross Entropy Loss: 1.6164, Cross Entropy Loss: 1.6159, Accuracy: 89.01%\n",
      "Epoch: 8/15, Cross Entropy Loss: 1.6086, Cross Entropy Loss: 1.6088, Accuracy: 89.18%\n",
      "Epoch: 9/15, Cross Entropy Loss: 1.6021, Cross Entropy Loss: 1.6043, Accuracy: 89.32%\n",
      "Epoch: 10/15, Cross Entropy Loss: 1.5970, Cross Entropy Loss: 1.5990, Accuracy: 89.74%\n",
      "Epoch: 11/15, Cross Entropy Loss: 1.5924, Cross Entropy Loss: 1.5953, Accuracy: 89.84%\n",
      "Epoch: 12/15, Cross Entropy Loss: 1.5886, Cross Entropy Loss: 1.5921, Accuracy: 89.99%\n",
      "Epoch: 13/15, Cross Entropy Loss: 1.5853, Cross Entropy Loss: 1.5896, Accuracy: 90.01%\n",
      "Epoch: 14/15, Cross Entropy Loss: 1.5824, Cross Entropy Loss: 1.5871, Accuracy: 90.12%\n",
      "Epoch: 15/15, Cross Entropy Loss: 1.5798, Cross Entropy Loss: 1.5850, Accuracy: 90.22%\n",
      "Training finish.\n",
      "\n"
     ]
    }
   ],
   "source": [
    "# Model\n",
    "n_classes = 10\n",
    "# print(summary(GNN_test))\n",
    "\n",
    "# Training\n",
    "trainer = Trainer(\"cuda:0\")\n",
    "\n",
    "n_epochs = 15\n",
    "lr = 1e-4\n",
    "optimizer = torch.optim.Adam(GNN_test.parameters(), lr)\n",
    "criterion = torch.nn.CrossEntropyLoss()\n",
    "\n",
    "file_path_save_trained_model = \"./savings/models/simpliest_GNN_test\"\n",
    "file_path_save_best_acc_model = \"./savings/models/simpliest_GNN_test_accuracy.pt\"\n",
    "results_file_path = \"./savings/results/results_simpliest_GNN_test.pkl\"\n",
    "train_loss_name = \"Cross Entropy Loss\"\n",
    "valid_loss_name = \"Cross Entropy Loss\"\n",
    "accuracy_name = \"Accuracy\"\n",
    "\n",
    "model, optimizer = trainer.train(n_epochs, norm_adj_mat,\n",
    "                                 GNN_test, optimizer, criterion,\n",
    "                                 train_loader, valid_loader,\n",
    "                                 file_path_save_trained_model, file_path_save_best_acc_model, results_file_path,\n",
    "                                 train_loss_name, valid_loss_name, accuracy_name,\n",
    "                                 best_accuracy_is_max=True)\n"
   ]
  }
 ],
 "metadata": {
  "kernelspec": {
   "display_name": "base",
   "language": "python",
   "name": "python3"
  },
  "language_info": {
   "codemirror_mode": {
    "name": "ipython",
    "version": 3
   },
   "file_extension": ".py",
   "mimetype": "text/x-python",
   "name": "python",
   "nbconvert_exporter": "python",
   "pygments_lexer": "ipython3",
   "version": "3.9.13"
  },
  "orig_nbformat": 4
 },
 "nbformat": 4,
 "nbformat_minor": 2
}
