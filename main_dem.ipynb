{
 "cells": [
  {
   "cell_type": "code",
   "execution_count": 1,
   "metadata": {},
   "outputs": [],
   "source": [
    "import torch\n",
    "import torch.nn as nn\n",
    "from torchinfo import summary\n",
    "#import torch_geometric\n",
    "\n",
    "from scipy.spatial.distance import cdist\n",
    "import networkx as nx\n",
    "\n",
    "import numpy as np\n",
    "import matplotlib.pyplot as plt\n",
    "import pickle as pkl\n",
    "\n",
    "from model import *\n",
    "from model_utils import *\n",
    "from dataset import *\n",
    "from trainer import *"
   ]
  },
  {
   "cell_type": "code",
   "execution_count": 2,
   "metadata": {},
   "outputs": [
    {
     "name": "stdout",
     "output_type": "stream",
     "text": [
      "Initializing CustomizableMNIST...\n",
      "Training set\n",
      "Init done.\n",
      "\n"
     ]
    }
   ],
   "source": [
    "# Dataset\n",
    "train_set = CustomizableMNIST(root='./data', train=True, download=True)\n",
    "\n",
    "val_set_ratio = 0.2\n",
    "shuffle = True\n",
    "batch_size = 32\n",
    "\n",
    "train_loader, valid_loader = split_and_shuffle_data(train_set, val_set_ratio, batch_size)\n"
   ]
  },
  {
   "cell_type": "code",
   "execution_count": 3,
   "metadata": {},
   "outputs": [],
   "source": [
    "nb_nodes = 784\n",
    "nb_features = 1\n",
    "out_features = 1\n",
    "\n",
    "GNN_test = simpliest_GNN(nb_nodes, nb_features, 10)\n",
    "GNN_test = GNN_test.to(\"cuda:0\")"
   ]
  },
  {
   "cell_type": "code",
   "execution_count": 4,
   "metadata": {},
   "outputs": [],
   "source": [
    "im_test, label = train_set[0]\n",
    "\n",
    "# adjacency matrix (1 for all is fine for now)\n",
    "im_test_np = train_set.get_item_numpy(0)\n",
    "adj_mat = compute_adj_mat(im_test_np)\n",
    "norm_adj_mat = norm_adjacency(adj_mat)\n"
   ]
  },
  {
   "cell_type": "code",
   "execution_count": 5,
   "metadata": {},
   "outputs": [
    {
     "name": "stdout",
     "output_type": "stream",
     "text": [
      "Starting trainer init...\n",
      "Trainer init done.\n",
      "\n",
      "Starting training...\n",
      "\n",
      "The model will be running on cuda:0 device.\n",
      "\n",
      "Epoch: 1/15, Cross Entropy Loss: 2.0473, Cross Entropy Loss: 1.8784, Accuracy: 68.82%\n",
      "Epoch: 2/15, Cross Entropy Loss: 1.8244, Cross Entropy Loss: 1.7638, Accuracy: 78.84%\n",
      "Epoch: 3/15, Cross Entropy Loss: 1.7228, Cross Entropy Loss: 1.6865, Accuracy: 86.35%\n",
      "Epoch: 4/15, Cross Entropy Loss: 1.6676, Cross Entropy Loss: 1.6559, Accuracy: 87.47%\n",
      "Epoch: 5/15, Cross Entropy Loss: 1.6441, Cross Entropy Loss: 1.6383, Accuracy: 87.98%\n",
      "Epoch: 6/15, Cross Entropy Loss: 1.6291, Cross Entropy Loss: 1.6261, Accuracy: 88.57%\n",
      "Epoch: 7/15, Cross Entropy Loss: 1.6180, Cross Entropy Loss: 1.6175, Accuracy: 88.75%\n",
      "Epoch: 8/15, Cross Entropy Loss: 1.6098, Cross Entropy Loss: 1.6106, Accuracy: 89.20%\n"
     ]
    }
   ],
   "source": [
    "# Model\n",
    "n_classes = 10\n",
    "# print(summary(GNN_test))\n",
    "\n",
    "# Training\n",
    "trainer = Trainer(\"cuda:0\")\n",
    "\n",
    "n_epochs = 15\n",
    "lr = 1e-4\n",
    "optimizer = torch.optim.Adam(GNN_test.parameters(), lr)\n",
    "criterion = torch.nn.CrossEntropyLoss()\n",
    "\n",
    "file_path_save_trained_model = \"./savings/models/simpliest_GNN_test\"\n",
    "file_path_save_best_acc_model = \"./savings/models/simpliest_GNN_test_accuracy.pt\"\n",
    "results_file_path = \"./savings/results/results_simpliest_GNN_test.pkl\"\n",
    "train_loss_name = \"Cross Entropy Loss\"\n",
    "valid_loss_name = \"Cross Entropy Loss\"\n",
    "accuracy_name = \"Accuracy\"\n",
    "\n",
    "model, optimizer = trainer.train(n_epochs, norm_adj_mat,\n",
    "                                 GNN_test, optimizer, criterion,\n",
    "                                 train_loader, valid_loader,\n",
    "                                 file_path_save_trained_model, file_path_save_best_acc_model, results_file_path,\n",
    "                                 train_loss_name, valid_loss_name, accuracy_name,\n",
    "                                 best_accuracy_is_max=True)\n"
   ]
  }
 ],
 "metadata": {
  "kernelspec": {
   "display_name": "base",
   "language": "python",
   "name": "python3"
  },
  "language_info": {
   "codemirror_mode": {
    "name": "ipython",
    "version": 3
   },
   "file_extension": ".py",
   "mimetype": "text/x-python",
   "name": "python",
   "nbconvert_exporter": "python",
   "pygments_lexer": "ipython3",
   "version": "3.9.13"
  },
  "orig_nbformat": 4
 },
 "nbformat": 4,
 "nbformat_minor": 2
}
